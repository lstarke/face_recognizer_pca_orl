{
 "cells": [
  {
   "cell_type": "code",
   "execution_count": 1,
   "metadata": {},
   "outputs": [],
   "source": [
    "import cv2 as cv\n",
    "import os\n",
    "import numpy as np\n",
    "import matplotlib.pyplot as plt\n",
    "from sklearn.model_selection import train_test_split\n",
    "from sklearn.metrics import accuracy_score"
   ]
  },
  {
   "cell_type": "code",
   "execution_count": 2,
   "metadata": {},
   "outputs": [],
   "source": [
    "%matplotlib inline"
   ]
  },
  {
   "cell_type": "code",
   "execution_count": 3,
   "metadata": {},
   "outputs": [],
   "source": [
    "class Person:\n",
    "    def __init__(self, id, label, data):\n",
    "        self.id = id\n",
    "        self.label = label\n",
    "        self.data = data\n",
    "    \n",
    "    def __str__(self):\n",
    "        return f'Person(id={self.id}, label={self.label}, data={self.data})'"
   ]
  },
  {
   "cell_type": "code",
   "execution_count": 4,
   "metadata": {},
   "outputs": [],
   "source": [
    "def to_person(file_name) -> Person:\n",
    "    data = file_name[file_name.find('/')+1 : file_name.rindex('.jpg')].split('_')\n",
    "    return Person(int(data[0]), int(data[1]), get_image_data(file_name))  "
   ]
  },
  {
   "cell_type": "code",
   "execution_count": 5,
   "metadata": {},
   "outputs": [],
   "source": [
    "def get_image_data(file_name) -> np.ndarray:\n",
    "    \n",
    "    img = cv.imread(file_name)\n",
    "    img = cv.cvtColor(img, cv.COLOR_BGR2GRAY)\n",
    "    img = cv.resize(img, (80, 80), interpolation = cv.INTER_AREA)  \n",
    "    \n",
    "    #column_vector = np.transpose(resized_img).reshape(resized_img.shape[0] * resized_img.shape[1], 1)\n",
    "    #column_vector = img.flatten('F')\n",
    "    \n",
    "    #return np.float64(column_vector)\n",
    "    #return column_vector\n",
    "    return img"
   ]
  },
  {
   "cell_type": "code",
   "execution_count": 6,
   "metadata": {},
   "outputs": [],
   "source": [
    "def load_dataset(path):\n",
    "    persons = []\n",
    "    for file_name in os.listdir(path):\n",
    "        full_file_path = f'{path}/{file_name}'\n",
    "        person = to_person(full_file_path)\n",
    "        persons.append(person)\n",
    "    persons = sorted(persons, key=lambda person: person.id)       \n",
    "    return persons"
   ]
  },
  {
   "cell_type": "code",
   "execution_count": 7,
   "metadata": {},
   "outputs": [],
   "source": [
    "def show_mean_image(images):\n",
    "    \n",
    "    X_train_in_column_vector = list()\n",
    "    \n",
    "    for image in images:\n",
    "        X_train_in_column_vector.append(image.flatten('F'))    \n",
    "    \n",
    "    train_mean = np.mean([X_train_in_column_vector], axis=1)\n",
    "    image_reshaped = train_mean.reshape(80,80).T\n",
    "    plt.imshow(np.asarray(image_reshaped.squeeze()), cmap='gray')\n",
    "    plt.show() "
   ]
  },
  {
   "cell_type": "markdown",
   "metadata": {},
   "source": [
    "Início da implementação.\n",
    "\n",
    "Carregando as imagens da base ORL + 10 imagens minhas"
   ]
  },
  {
   "cell_type": "code",
   "execution_count": 8,
   "metadata": {},
   "outputs": [
    {
     "data": {
      "text/plain": [
       "410"
      ]
     },
     "execution_count": 8,
     "metadata": {},
     "output_type": "execute_result"
    }
   ],
   "source": [
    "path = 'ORL'\n",
    "\n",
    "persons = load_dataset(path)\n",
    "\n",
    "len(persons)"
   ]
  },
  {
   "cell_type": "markdown",
   "metadata": {},
   "source": [
    "Isolando dados (somente as matrizes das imagens) de treino em X e os targets em y"
   ]
  },
  {
   "cell_type": "code",
   "execution_count": 9,
   "metadata": {},
   "outputs": [],
   "source": [
    "y = []\n",
    "X = []\n",
    "for p in persons:\n",
    "    X.append(p.data)\n",
    "    y.append(p.label)"
   ]
  },
  {
   "cell_type": "markdown",
   "metadata": {},
   "source": [
    "Fazendo o split dos dados.\n",
    "\n",
    "Como a base contem 10 imagens de cada indivíduo, o for é feito de 10 em 10 unidades.\n",
    "\n",
    "Ou seja, o split é feito por individuo onde temos um total de 10 dos quais 70% serão treino e 30% teste."
   ]
  },
  {
   "cell_type": "code",
   "execution_count": 10,
   "metadata": {},
   "outputs": [],
   "source": [
    "X_train = list()\n",
    "X_test = list()\n",
    "y_train = list()\n",
    "y_test = list()\n",
    "for i in range(0, len(X), 10):\n",
    "    person_X = X[i:i+10]\n",
    "    person_y = y[i:i+10]\n",
    "    X_train_Person, X_test_Person, y_train_Person, y_test_Person = train_test_split(person_X, person_y, test_size=0.3, random_state=14)\n",
    "    X_train.extend(X_train_Person)\n",
    "    X_test.extend(X_test_Person)\n",
    "    y_train.extend(y_train_Person)\n",
    "    y_test.extend(y_test_Person)"
   ]
  },
  {
   "cell_type": "code",
   "execution_count": 11,
   "metadata": {},
   "outputs": [
    {
     "name": "stdout",
     "output_type": "stream",
     "text": [
      "287 123 287 123\n"
     ]
    }
   ],
   "source": [
    "print(len(X_train), len(X_test), len(y_train), len(y_test))"
   ]
  },
  {
   "cell_type": "markdown",
   "metadata": {},
   "source": [
    "Imagem média"
   ]
  },
  {
   "cell_type": "code",
   "execution_count": 12,
   "metadata": {},
   "outputs": [
    {
     "data": {
      "image/png": "[encoded data removed]",
      "text/plain": [
       "<Figure size 432x288 with 1 Axes>"
      ]
     },
     "metadata": {
      "needs_background": "light"
     },
     "output_type": "display_data"
    }
   ],
   "source": [
    "show_mean_image(X_train)"
   ]
  },
  {
   "cell_type": "markdown",
   "metadata": {},
   "source": [
    "Método que retorna a instancia do algoritmo que será utilizado"
   ]
  },
  {
   "cell_type": "code",
   "execution_count": 13,
   "metadata": {},
   "outputs": [],
   "source": [
    "def get_model(alg, num_components):\n",
    "    \n",
    "    model = None\n",
    "    \n",
    "    if alg == 'LBPHFaceRecognizer':   \n",
    "        model = cv.face.LBPHFaceRecognizer_create(num_components)\n",
    "    elif alg == 'EigenFaceRecognizer':\n",
    "        model = cv.face.EigenFaceRecognizer_create(num_components)\n",
    "        \n",
    "    return model"
   ]
  },
  {
   "cell_type": "markdown",
   "metadata": {},
   "source": [
    "O código abaixo executa as seguintes tarefas:\n",
    "\n",
    "- Percorre a lista de algoritmos\n",
    "- Faz todos os testes alterando a quantidades de compomente para PCA\n",
    "- Faz o treinamento do modelo\n",
    "- Faz as predições\n",
    "- Calcula a accurácia\n",
    "- Imprime os resultados (quantidade de componentes vs accurácia)"
   ]
  },
  {
   "cell_type": "code",
   "execution_count": 14,
   "metadata": {},
   "outputs": [
    {
     "name": "stdout",
     "output_type": "stream",
     "text": [
      "Algoritmo:  LBPHFaceRecognizer\n",
      "\n",
      "PCA number: 1, accuracy score: 96.75%\n",
      "PCA number: 2, accuracy score: 96.75%\n",
      "PCA number: 3, accuracy score: 96.75%\n",
      "PCA number: 4, accuracy score: 96.75%\n",
      "PCA number: 5, accuracy score: 94.31%\n",
      "PCA number: 6, accuracy score: 95.12%\n",
      "PCA number: 7, accuracy score: 95.12%\n",
      "PCA number: 8, accuracy score: 95.12%\n",
      "PCA number: 9, accuracy score: 94.31%\n",
      "PCA number: 10, accuracy score: 94.31%\n",
      "PCA number: 11, accuracy score: 93.5%\n",
      "PCA number: 12, accuracy score: 94.31%\n",
      "PCA number: 13, accuracy score: 91.87%\n",
      "PCA number: 14, accuracy score: 91.87%\n",
      "PCA number: 15, accuracy score: 93.5%\n",
      "PCA number: 16, accuracy score: 92.68%\n",
      "PCA number: 17, accuracy score: 88.62%\n",
      "PCA number: 18, accuracy score: 87.8%\n",
      "PCA number: 19, accuracy score: 90.24%\n",
      "PCA number: 20, accuracy score: 91.06%\n",
      "--------------------------------------------------\n",
      "Algoritmo:  EigenFaceRecognizer\n",
      "\n",
      "PCA number: 1, accuracy score: 12.2%\n",
      "PCA number: 2, accuracy score: 45.53%\n",
      "PCA number: 3, accuracy score: 75.61%\n",
      "PCA number: 4, accuracy score: 88.62%\n",
      "PCA number: 5, accuracy score: 92.68%\n",
      "PCA number: 6, accuracy score: 91.87%\n",
      "PCA number: 7, accuracy score: 92.68%\n",
      "PCA number: 8, accuracy score: 95.12%\n",
      "PCA number: 9, accuracy score: 95.93%\n",
      "PCA number: 10, accuracy score: 95.93%\n",
      "PCA number: 11, accuracy score: 95.12%\n",
      "PCA number: 12, accuracy score: 94.31%\n",
      "PCA number: 13, accuracy score: 94.31%\n",
      "PCA number: 14, accuracy score: 94.31%\n",
      "PCA number: 15, accuracy score: 94.31%\n",
      "PCA number: 16, accuracy score: 94.31%\n",
      "PCA number: 17, accuracy score: 94.31%\n",
      "PCA number: 18, accuracy score: 94.31%\n",
      "PCA number: 19, accuracy score: 94.31%\n",
      "PCA number: 20, accuracy score: 95.12%\n",
      "--------------------------------------------------\n"
     ]
    }
   ],
   "source": [
    "for alg in ['LBPHFaceRecognizer', 'EigenFaceRecognizer']:\n",
    "    \n",
    "    print('Algoritmo: ', alg)  \n",
    "    print('')   \n",
    "    \n",
    "    n_components = list()\n",
    "    accuracy = list()\n",
    "    for n_comp in range(1,21):\n",
    "        \n",
    "        model = get_model(alg, n_comp)    \n",
    "        model.train(X_train, np.array(y_train))\n",
    "        \n",
    "        pred = list()\n",
    "        for i, image in enumerate(X_test):\n",
    "            label, confidence = model.predict(image)\n",
    "            pred.append(label)\n",
    "\n",
    "        accur = accuracy_score(pred, y_test)       \n",
    "        \n",
    "        n_components.append(n_comp)\n",
    "        accuracy.append(round(accur*100,2))\n",
    "        \n",
    "    for i in range(len(n_components)):\n",
    "        print('PCA number: {}, accuracy score: {}%'.format(n_components[i], accuracy[i]))\n",
    "        \n",
    "    print('-' * 50)      "
   ]
  },
  {
   "cell_type": "markdown",
   "metadata": {},
   "source": [
    "Executando alguns testes...\n",
    "\n",
    "Testes com imagens do próprio dataset."
   ]
  },
  {
   "cell_type": "code",
   "execution_count": null,
   "metadata": {},
   "outputs": [],
   "source": [
    "model = get_model('LBPHFaceRecognizer', 1)\n",
    "model.train(X, np.array(y))\n",
    "\n",
    "me = next((x for x in persons if x.id == 401), None)\n",
    "\n",
    "label, confidence = model.predict(me.data)\n",
    "\n",
    "if label == 41:\n",
    "    print('Yes, its me!')"
   ]
  },
  {
   "cell_type": "markdown",
   "metadata": {},
   "source": [
    "Aqui é um teste onde tirei novas fotos minha e que não foram usadas no treinamento.\n",
    "\n",
    "Uma das fotos é com máscara e o modelo errou.\n",
    "\n",
    "As fotos 997 e 998 são com oculos e 999 com máscara."
   ]
  },
  {
   "cell_type": "code",
   "execution_count": 27,
   "metadata": {},
   "outputs": [
    {
     "name": "stdout",
     "output_type": "stream",
     "text": [
      "Yes, its me!\n"
     ]
    }
   ],
   "source": [
    "test_img = load_dataset('TEST_IMG')\n",
    "me2 = next((x for x in test_img if x.id == 997), None)\n",
    "label, confidence = model.predict(me2.data)\n",
    "\n",
    "if label == 41:\n",
    "    print('Yes, its me!')"
   ]
  },
  {
   "cell_type": "markdown",
   "metadata": {},
   "source": [
    "Algumas referências..."
   ]
  },
  {
   "cell_type": "markdown",
   "metadata": {},
   "source": [
    "[local binary pattern algorithm the math behind it](https://medium.com/swlh/local-binary-pattern-algorithm-the-math-behind-it-%EF%B8%8F-edf7b0e1c8b3)\n",
    "\n",
    "[face recognition how lbph works](https://towardsdatascience.com/face-recognition-how-lbph-works-90ec258c3d6)\n"
   ]
  },
  {
   "cell_type": "code",
   "execution_count": null,
   "metadata": {},
   "outputs": [],
   "source": []
  }
 ],
 "metadata": {
  "kernelspec": {
   "display_name": "Python 3",
   "language": "python",
   "name": "python3"
  },
  "language_info": {
   "codemirror_mode": {
    "name": "ipython",
    "version": 3
   },
   "file_extension": ".py",
   "mimetype": "text/x-python",
   "name": "python",
   "nbconvert_exporter": "python",
   "pygments_lexer": "ipython3",
   "version": "3.8.5"
  }
 },
 "nbformat": 4,
 "nbformat_minor": 4
}
